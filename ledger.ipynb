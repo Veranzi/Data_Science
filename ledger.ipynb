{
 "cells": [
  {
   "cell_type": "code",
   "execution_count": 5,
   "metadata": {},
   "outputs": [],
   "source": [
    "import pandas as pd\n",
    "import matplotlib.pyplot as plt\n",
    "import matplotlib_inline \n",
    "%matplotlib inline\n",
    "import numpy as np\n",
    "import modelbit\n",
    "from sklearn.cluster import KMeans\n",
    "from sklearn.preprocessing import StandardScaler\n",
    "from sklearn.metrics import silhouette_score\n",
    "import joblib\n",
    "\n",
    "\n",
    "mb = modelbit.login()"
   ]
  },
  {
   "cell_type": "code",
   "execution_count": 6,
   "metadata": {},
   "outputs": [
    {
     "data": {
      "text/html": [
       "<div>\n",
       "<style scoped>\n",
       "    .dataframe tbody tr th:only-of-type {\n",
       "        vertical-align: middle;\n",
       "    }\n",
       "\n",
       "    .dataframe tbody tr th {\n",
       "        vertical-align: top;\n",
       "    }\n",
       "\n",
       "    .dataframe thead th {\n",
       "        text-align: right;\n",
       "    }\n",
       "</style>\n",
       "<table border=\"1\" class=\"dataframe\">\n",
       "  <thead>\n",
       "    <tr style=\"text-align: right;\">\n",
       "      <th></th>\n",
       "      <th>Original Amount</th>\n",
       "      <th>Sales (LCY)</th>\n",
       "      <th>Profit (LCY)</th>\n",
       "    </tr>\n",
       "  </thead>\n",
       "  <tbody>\n",
       "    <tr>\n",
       "      <th>0</th>\n",
       "      <td>14268.0</td>\n",
       "      <td>12300.00</td>\n",
       "      <td>4296.00</td>\n",
       "    </tr>\n",
       "    <tr>\n",
       "      <th>1</th>\n",
       "      <td>9701.0</td>\n",
       "      <td>8362.93</td>\n",
       "      <td>3779.93</td>\n",
       "    </tr>\n",
       "    <tr>\n",
       "      <th>2</th>\n",
       "      <td>6791.0</td>\n",
       "      <td>5854.31</td>\n",
       "      <td>2602.21</td>\n",
       "    </tr>\n",
       "    <tr>\n",
       "      <th>3</th>\n",
       "      <td>16491.0</td>\n",
       "      <td>14216.38</td>\n",
       "      <td>6299.48</td>\n",
       "    </tr>\n",
       "    <tr>\n",
       "      <th>4</th>\n",
       "      <td>8465.0</td>\n",
       "      <td>7297.42</td>\n",
       "      <td>3253.72</td>\n",
       "    </tr>\n",
       "    <tr>\n",
       "      <th>...</th>\n",
       "      <td>...</td>\n",
       "      <td>...</td>\n",
       "      <td>...</td>\n",
       "    </tr>\n",
       "    <tr>\n",
       "      <th>4811</th>\n",
       "      <td>5040.0</td>\n",
       "      <td>4344.83</td>\n",
       "      <td>759.03</td>\n",
       "    </tr>\n",
       "    <tr>\n",
       "      <th>4812</th>\n",
       "      <td>14663.0</td>\n",
       "      <td>12640.52</td>\n",
       "      <td>5836.32</td>\n",
       "    </tr>\n",
       "    <tr>\n",
       "      <th>4813</th>\n",
       "      <td>26573.0</td>\n",
       "      <td>22907.76</td>\n",
       "      <td>13641.18</td>\n",
       "    </tr>\n",
       "    <tr>\n",
       "      <th>4814</th>\n",
       "      <td>16733.0</td>\n",
       "      <td>14425.00</td>\n",
       "      <td>8600.31</td>\n",
       "    </tr>\n",
       "    <tr>\n",
       "      <th>4815</th>\n",
       "      <td>12050.0</td>\n",
       "      <td>10387.93</td>\n",
       "      <td>6320.33</td>\n",
       "    </tr>\n",
       "  </tbody>\n",
       "</table>\n",
       "<p>4816 rows × 3 columns</p>\n",
       "</div>"
      ],
      "text/plain": [
       "      Original Amount  Sales (LCY)  Profit (LCY)\n",
       "0             14268.0     12300.00       4296.00\n",
       "1              9701.0      8362.93       3779.93\n",
       "2              6791.0      5854.31       2602.21\n",
       "3             16491.0     14216.38       6299.48\n",
       "4              8465.0      7297.42       3253.72\n",
       "...               ...          ...           ...\n",
       "4811           5040.0      4344.83        759.03\n",
       "4812          14663.0     12640.52       5836.32\n",
       "4813          26573.0     22907.76      13641.18\n",
       "4814          16733.0     14425.00       8600.31\n",
       "4815          12050.0     10387.93       6320.33\n",
       "\n",
       "[4816 rows x 3 columns]"
      ]
     },
     "execution_count": 6,
     "metadata": {},
     "output_type": "execute_result"
    }
   ],
   "source": [
    "df = pd.read_excel('D:\\Moringa\\Customer.xlsx')\n",
    "df"
   ]
  },
  {
   "cell_type": "code",
   "execution_count": 7,
   "metadata": {},
   "outputs": [
    {
     "data": {
      "text/plain": [
       "(4816, 3)"
      ]
     },
     "execution_count": 7,
     "metadata": {},
     "output_type": "execute_result"
    }
   ],
   "source": [
    "df.shape"
   ]
  },
  {
   "cell_type": "code",
   "execution_count": 8,
   "metadata": {},
   "outputs": [
    {
     "data": {
      "text/html": [
       "<div>\n",
       "<style scoped>\n",
       "    .dataframe tbody tr th:only-of-type {\n",
       "        vertical-align: middle;\n",
       "    }\n",
       "\n",
       "    .dataframe tbody tr th {\n",
       "        vertical-align: top;\n",
       "    }\n",
       "\n",
       "    .dataframe thead th {\n",
       "        text-align: right;\n",
       "    }\n",
       "</style>\n",
       "<table border=\"1\" class=\"dataframe\">\n",
       "  <thead>\n",
       "    <tr style=\"text-align: right;\">\n",
       "      <th></th>\n",
       "      <th>Original Amount</th>\n",
       "      <th>Sales (LCY)</th>\n",
       "      <th>Profit (LCY)</th>\n",
       "    </tr>\n",
       "  </thead>\n",
       "  <tbody>\n",
       "    <tr>\n",
       "      <th>0</th>\n",
       "      <td>14268.0</td>\n",
       "      <td>12300.00</td>\n",
       "      <td>4296.00</td>\n",
       "    </tr>\n",
       "    <tr>\n",
       "      <th>1</th>\n",
       "      <td>9701.0</td>\n",
       "      <td>8362.93</td>\n",
       "      <td>3779.93</td>\n",
       "    </tr>\n",
       "    <tr>\n",
       "      <th>2</th>\n",
       "      <td>6791.0</td>\n",
       "      <td>5854.31</td>\n",
       "      <td>2602.21</td>\n",
       "    </tr>\n",
       "    <tr>\n",
       "      <th>3</th>\n",
       "      <td>16491.0</td>\n",
       "      <td>14216.38</td>\n",
       "      <td>6299.48</td>\n",
       "    </tr>\n",
       "    <tr>\n",
       "      <th>4</th>\n",
       "      <td>8465.0</td>\n",
       "      <td>7297.42</td>\n",
       "      <td>3253.72</td>\n",
       "    </tr>\n",
       "    <tr>\n",
       "      <th>5</th>\n",
       "      <td>12065.0</td>\n",
       "      <td>10400.86</td>\n",
       "      <td>6044.60</td>\n",
       "    </tr>\n",
       "    <tr>\n",
       "      <th>6</th>\n",
       "      <td>92151.0</td>\n",
       "      <td>79440.52</td>\n",
       "      <td>36054.02</td>\n",
       "    </tr>\n",
       "    <tr>\n",
       "      <th>7</th>\n",
       "      <td>308.0</td>\n",
       "      <td>265.52</td>\n",
       "      <td>157.72</td>\n",
       "    </tr>\n",
       "    <tr>\n",
       "      <th>8</th>\n",
       "      <td>38751.0</td>\n",
       "      <td>33406.03</td>\n",
       "      <td>13141.03</td>\n",
       "    </tr>\n",
       "    <tr>\n",
       "      <th>9</th>\n",
       "      <td>43401.0</td>\n",
       "      <td>37414.66</td>\n",
       "      <td>14400.26</td>\n",
       "    </tr>\n",
       "  </tbody>\n",
       "</table>\n",
       "</div>"
      ],
      "text/plain": [
       "   Original Amount  Sales (LCY)  Profit (LCY)\n",
       "0          14268.0     12300.00       4296.00\n",
       "1           9701.0      8362.93       3779.93\n",
       "2           6791.0      5854.31       2602.21\n",
       "3          16491.0     14216.38       6299.48\n",
       "4           8465.0      7297.42       3253.72\n",
       "5          12065.0     10400.86       6044.60\n",
       "6          92151.0     79440.52      36054.02\n",
       "7            308.0       265.52        157.72\n",
       "8          38751.0     33406.03      13141.03\n",
       "9          43401.0     37414.66      14400.26"
      ]
     },
     "execution_count": 8,
     "metadata": {},
     "output_type": "execute_result"
    }
   ],
   "source": [
    "df.head(10)"
   ]
  },
  {
   "cell_type": "code",
   "execution_count": 9,
   "metadata": {},
   "outputs": [
    {
     "data": {
      "text/html": [
       "<div>\n",
       "<style scoped>\n",
       "    .dataframe tbody tr th:only-of-type {\n",
       "        vertical-align: middle;\n",
       "    }\n",
       "\n",
       "    .dataframe tbody tr th {\n",
       "        vertical-align: top;\n",
       "    }\n",
       "\n",
       "    .dataframe thead th {\n",
       "        text-align: right;\n",
       "    }\n",
       "</style>\n",
       "<table border=\"1\" class=\"dataframe\">\n",
       "  <thead>\n",
       "    <tr style=\"text-align: right;\">\n",
       "      <th></th>\n",
       "      <th>Original Amount</th>\n",
       "      <th>Sales (LCY)</th>\n",
       "      <th>Profit (LCY)</th>\n",
       "    </tr>\n",
       "  </thead>\n",
       "  <tbody>\n",
       "    <tr>\n",
       "      <th>4806</th>\n",
       "      <td>7100.0</td>\n",
       "      <td>6120.69</td>\n",
       "      <td>2799.89</td>\n",
       "    </tr>\n",
       "    <tr>\n",
       "      <th>4807</th>\n",
       "      <td>12536.0</td>\n",
       "      <td>10806.90</td>\n",
       "      <td>4521.50</td>\n",
       "    </tr>\n",
       "    <tr>\n",
       "      <th>4808</th>\n",
       "      <td>161019.0</td>\n",
       "      <td>138809.48</td>\n",
       "      <td>64583.38</td>\n",
       "    </tr>\n",
       "    <tr>\n",
       "      <th>4809</th>\n",
       "      <td>15091.0</td>\n",
       "      <td>13009.49</td>\n",
       "      <td>6335.59</td>\n",
       "    </tr>\n",
       "    <tr>\n",
       "      <th>4810</th>\n",
       "      <td>32402.0</td>\n",
       "      <td>27932.76</td>\n",
       "      <td>16716.96</td>\n",
       "    </tr>\n",
       "    <tr>\n",
       "      <th>4811</th>\n",
       "      <td>5040.0</td>\n",
       "      <td>4344.83</td>\n",
       "      <td>759.03</td>\n",
       "    </tr>\n",
       "    <tr>\n",
       "      <th>4812</th>\n",
       "      <td>14663.0</td>\n",
       "      <td>12640.52</td>\n",
       "      <td>5836.32</td>\n",
       "    </tr>\n",
       "    <tr>\n",
       "      <th>4813</th>\n",
       "      <td>26573.0</td>\n",
       "      <td>22907.76</td>\n",
       "      <td>13641.18</td>\n",
       "    </tr>\n",
       "    <tr>\n",
       "      <th>4814</th>\n",
       "      <td>16733.0</td>\n",
       "      <td>14425.00</td>\n",
       "      <td>8600.31</td>\n",
       "    </tr>\n",
       "    <tr>\n",
       "      <th>4815</th>\n",
       "      <td>12050.0</td>\n",
       "      <td>10387.93</td>\n",
       "      <td>6320.33</td>\n",
       "    </tr>\n",
       "  </tbody>\n",
       "</table>\n",
       "</div>"
      ],
      "text/plain": [
       "      Original Amount  Sales (LCY)  Profit (LCY)\n",
       "4806           7100.0      6120.69       2799.89\n",
       "4807          12536.0     10806.90       4521.50\n",
       "4808         161019.0    138809.48      64583.38\n",
       "4809          15091.0     13009.49       6335.59\n",
       "4810          32402.0     27932.76      16716.96\n",
       "4811           5040.0      4344.83        759.03\n",
       "4812          14663.0     12640.52       5836.32\n",
       "4813          26573.0     22907.76      13641.18\n",
       "4814          16733.0     14425.00       8600.31\n",
       "4815          12050.0     10387.93       6320.33"
      ]
     },
     "execution_count": 9,
     "metadata": {},
     "output_type": "execute_result"
    }
   ],
   "source": [
    "df.tail(10)"
   ]
  },
  {
   "cell_type": "code",
   "execution_count": 10,
   "metadata": {},
   "outputs": [
    {
     "data": {
      "image/png": "[encoded data removed]",
      "text/plain": [
       "<Figure size 800x600 with 1 Axes>"
      ]
     },
     "metadata": {},
     "output_type": "display_data"
    }
   ],
   "source": [
    "\n",
    "x = df['Original Amount']\n",
    "y = df['Profit (LCY)']\n",
    "\n",
    "# Create scatter plot\n",
    "plt.figure(figsize=(8, 6))  # Adjust size if needed\n",
    "plt.scatter(x, y, color='blue', alpha=0.5)  # Adjust color and transparency as needed\n",
    "\n",
    "# Add labels and title\n",
    "plt.xlabel('Original Amount')\n",
    "plt.ylabel('Profit (LCY)')\n",
    "plt.title('Scatter Plot: Original Amount vs. Profit (LCY)')\n",
    "\n",
    "# Show plot\n",
    "plt.grid(True)  # Add grid\n",
    "plt.show()"
   ]
  },
  {
   "cell_type": "code",
   "execution_count": 11,
   "metadata": {},
   "outputs": [
    {
     "data": {
      "image/png": "[encoded data removed]",
      "text/plain": [
       "<Figure size 800x600 with 1 Axes>"
      ]
     },
     "metadata": {},
     "output_type": "display_data"
    }
   ],
   "source": [
    "\n",
    "x = df['Original Amount']\n",
    "y = df['Profit (LCY)']\n",
    "sales = df['Sales (LCY)']\n",
    "\n",
    "# Create scatter plot\n",
    "plt.figure(figsize=(8, 6))  # Adjust size if needed\n",
    "\n",
    "# Scatter plot for 'Original Amount' vs 'Profit (LCY)'\n",
    "plt.scatter(x, y, color='blue', alpha=0.5, label='Profit (LCY)')\n",
    "\n",
    "# Scatter plot for 'Original Amount' vs 'Sales (LCY)'\n",
    "plt.scatter(x, sales, color='green', alpha=0.5, label='Sales (LCY)')\n",
    "\n",
    "# Add labels and title\n",
    "plt.xlabel('Original Amount')\n",
    "plt.ylabel('Amount (LCY)')\n",
    "plt.title('Scatter Plot: Original Amount vs. Sales and Profit (LCY)')\n",
    "\n",
    "# Add legend\n",
    "plt.legend()\n",
    "\n",
    "# Show plot\n",
    "plt.grid(True)  # Add grid\n",
    "plt.show()"
   ]
  },
  {
   "cell_type": "code",
   "execution_count": 12,
   "metadata": {},
   "outputs": [
    {
     "name": "stdout",
     "output_type": "stream",
     "text": [
      "       Original Amount   Sales (LCY)  Profit (LCY)\n",
      "count     4.816000e+03  4.816000e+03  4.816000e+03\n",
      "mean      2.741116e+04  2.798918e+04  1.405403e+04\n",
      "std       9.764582e+04  1.398988e+05  6.272058e+04\n",
      "min      -6.000000e+05 -5.172414e+05 -2.679250e+05\n",
      "25%       3.116000e+03  2.688145e+03  1.219852e+03\n",
      "50%       1.500100e+04  1.293750e+04  6.511880e+03\n",
      "75%       3.303425e+04  2.860970e+04  1.537506e+04\n",
      "max       5.874240e+06  5.064000e+06  1.771668e+06\n"
     ]
    }
   ],
   "source": [
    "print(df.describe())"
   ]
  },
  {
   "cell_type": "code",
   "execution_count": 13,
   "metadata": {},
   "outputs": [],
   "source": [
    "numerical_cols = ['Original Amount', 'Sales (LCY)', 'Profit (LCY)']\n",
    "data_numeric = df[numerical_cols]\n",
    "\n",
    "# Scaling the data\n",
    "scaler = StandardScaler()\n",
    "scaled_data = scaler.fit_transform(data_numeric)"
   ]
  },
  {
   "cell_type": "code",
   "execution_count": 14,
   "metadata": {},
   "outputs": [
    {
     "name": "stdout",
     "output_type": "stream",
     "text": [
      "      Original Amount  Sales (LCY)  Profit (LCY)  Cluster\n",
      "0             14268.0     12300.00       4296.00        0\n",
      "1              9701.0      8362.93       3779.93        0\n",
      "2              6791.0      5854.31       2602.21        0\n",
      "3             16491.0     14216.38       6299.48        0\n",
      "4              8465.0      7297.42       3253.72        0\n",
      "...               ...          ...           ...      ...\n",
      "4811           5040.0      4344.83        759.03        0\n",
      "4812          14663.0     12640.52       5836.32        0\n",
      "4813          26573.0     22907.76      13641.18        0\n",
      "4814          16733.0     14425.00       8600.31        0\n",
      "4815          12050.0     10387.93       6320.33        0\n",
      "\n",
      "[4816 rows x 4 columns]\n"
     ]
    }
   ],
   "source": [
    "\n",
    "\n",
    "# Drop rows with missing values\n",
    "df_cleaned = df.dropna()\n",
    "\n",
    "# Select relevant numerical columns for clustering\n",
    "numerical_cols = ['Original Amount', 'Sales (LCY)', 'Profit (LCY)']\n",
    "df_numeric = df_cleaned[numerical_cols]\n",
    "\n",
    "# Scale the data\n",
    "scaler = StandardScaler()\n",
    "scaled_data = scaler.fit_transform(df_numeric)\n",
    "\n",
    "# Determine the optimal number of clusters using silhouette score\n",
    "silhouette_scores = []\n",
    "for k in range(2, 11):\n",
    "    kmeans = KMeans(n_clusters=k, random_state=42)\n",
    "    kmeans.fit(scaled_data)\n",
    "    silhouette_scores.append(silhouette_score(scaled_data, kmeans.labels_))\n",
    "\n",
    "optimal_k = silhouette_scores.index(max(silhouette_scores)) + 2  # Adding 2 because the range starts from 2\n",
    "\n",
    "# Apply K-means clustering with optimal number of clusters\n",
    "kmeans = KMeans(n_clusters=optimal_k, random_state=42)\n",
    "kmeans.fit(scaled_data)\n",
    "\n",
    "# Add cluster labels to the DataFrame\n",
    "df_cleaned['Cluster'] = kmeans.labels_\n",
    "\n",
    "# Print the DataFrame with cluster labels\n",
    "print(df_cleaned)\n"
   ]
  },
  {
   "cell_type": "code",
   "execution_count": 15,
   "metadata": {},
   "outputs": [
    {
     "name": "stdout",
     "output_type": "stream",
     "text": [
      "Unique clusters:\n",
      "Cluster\n",
      "0    4808\n",
      "1       8\n",
      "Name: count, dtype: int64\n"
     ]
    }
   ],
   "source": [
    "# Check unique cluster labels and their counts\n",
    "unique_clusters = df_cleaned['Cluster'].value_counts()\n",
    "\n",
    "# Print the unique clusters and their counts\n",
    "print(\"Unique clusters:\")\n",
    "print(unique_clusters)\n"
   ]
  },
  {
   "cell_type": "code",
   "execution_count": 16,
   "metadata": {},
   "outputs": [
    {
     "name": "stdout",
     "output_type": "stream",
     "text": [
      "Silhouette Score: 0.9854329122201185\n"
     ]
    }
   ],
   "source": [
    "from sklearn.metrics import silhouette_score\n",
    "\n",
    "# Calculate silhouette score\n",
    "silhouette_score = silhouette_score(scaled_data, kmeans.labels_)\n",
    "\n",
    "# Print silhouette score\n",
    "print(\"Silhouette Score:\", silhouette_score)\n"
   ]
  },
  {
   "cell_type": "code",
   "execution_count": 17,
   "metadata": {},
   "outputs": [
    {
     "name": "stdout",
     "output_type": "stream",
     "text": [
      "Rows with cluster label 1:\n",
      "      Original Amount  Sales (LCY)  Profit (LCY)  Cluster\n",
      "1150         16824.90   2648091.20    1166505.25        1\n",
      "1685         17622.66   2773651.60    1461327.06        1\n",
      "1711       5874240.00   5064000.00     909200.00        1\n",
      "1874         18150.35   2856705.37    1527697.67        1\n",
      "2875         21230.55   3341501.74    1771668.04        1\n",
      "4190         19352.75   3045952.55    1519601.30        1\n",
      "4256         18150.64   2856751.01    1549605.31        1\n",
      "4411         19635.22   3090410.84    1611894.34        1\n"
     ]
    }
   ],
   "source": [
    "# Filter the DataFrame for rows with cluster label 1\n",
    "rows_cluster_1 = df_cleaned[df_cleaned['Cluster'] == 1]\n",
    "\n",
    "# Print the rows with cluster label 1\n",
    "print(\"Rows with cluster label 1:\")\n",
    "print(rows_cluster_1)\n"
   ]
  },
  {
   "cell_type": "code",
   "execution_count": 18,
   "metadata": {},
   "outputs": [
    {
     "name": "stdout",
     "output_type": "stream",
     "text": [
      "Rows with cluster label 1:\n",
      "      Original Amount  Sales (LCY)  Profit (LCY)  Cluster\n",
      "0             14268.0     12300.00       4296.00        0\n",
      "1              9701.0      8362.93       3779.93        0\n",
      "2              6791.0      5854.31       2602.21        0\n",
      "3             16491.0     14216.38       6299.48        0\n",
      "4              8465.0      7297.42       3253.72        0\n",
      "...               ...          ...           ...      ...\n",
      "4811           5040.0      4344.83        759.03        0\n",
      "4812          14663.0     12640.52       5836.32        0\n",
      "4813          26573.0     22907.76      13641.18        0\n",
      "4814          16733.0     14425.00       8600.31        0\n",
      "4815          12050.0     10387.93       6320.33        0\n",
      "\n",
      "[4808 rows x 4 columns]\n"
     ]
    }
   ],
   "source": [
    "# Filter the DataFrame for rows with cluster label 1\n",
    "rows_cluster_1 = df_cleaned[df_cleaned['Cluster'] == 0]\n",
    "\n",
    "# Print the rows with cluster label 1\n",
    "print(\"Rows with cluster label 1:\")\n",
    "print(rows_cluster_1)\n"
   ]
  },
  {
   "cell_type": "code",
   "execution_count": 19,
   "metadata": {},
   "outputs": [],
   "source": [
    "\n",
    "\n",
    "# Save the trained scaler and k-Means model\n",
    "joblib.dump(scaler, 'scaler.pkl')\n",
    "joblib.dump(kmeans, 'kmeans_model.pkl')\n",
    "\n",
    "# Later, load the saved scaler and k-Means model\n",
    "loaded_scaler = joblib.load('scaler.pkl')\n",
    "loaded_kmeans = joblib.load('kmeans_model.pkl')"
   ]
  },
  {
   "cell_type": "code",
   "execution_count": 20,
   "metadata": {},
   "outputs": [
    {
     "name": "stdout",
     "output_type": "stream",
     "text": [
      "Predicted Cluster: 1\n"
     ]
    },
    {
     "name": "stderr",
     "output_type": "stream",
     "text": [
      "d:\\Moringa\\moringa_venv\\Lib\\site-packages\\sklearn\\base.py:493: UserWarning: X does not have valid feature names, but StandardScaler was fitted with feature names\n",
      "  warnings.warn(\n"
     ]
    }
   ],
   "source": [
    "# Input data provided as individual values\n",
    "import numpy as np\n",
    "input_data = np.array([[19635.22,3090410.84,1611894.34]])  # Organize the values into a 2D array\n",
    "\n",
    "# Load the saved scaler and k-Means model\n",
    "loaded_scaler = joblib.load('scaler.pkl')\n",
    "loaded_kmeans = joblib.load('kmeans_model.pkl')\n",
    "\n",
    "# Scale the input data using the loaded scaler\n",
    "scaled_input_data = loaded_scaler.transform(input_data)\n",
    "\n",
    "# Predict clusters using the loaded k-Means model\n",
    "predicted_cluster = loaded_kmeans.predict(scaled_input_data)\n",
    "\n",
    "# Print the predicted cluster\n",
    "print(\"Predicted Cluster:\", predicted_cluster[0])"
   ]
  },
  {
   "cell_type": "code",
   "execution_count": 21,
   "metadata": {},
   "outputs": [
    {
     "name": "stdout",
     "output_type": "stream",
     "text": [
      "Predicted Cluster Label: 1\n"
     ]
    },
    {
     "name": "stderr",
     "output_type": "stream",
     "text": [
      "d:\\Moringa\\moringa_venv\\Lib\\site-packages\\sklearn\\base.py:493: UserWarning: X does not have valid feature names, but StandardScaler was fitted with feature names\n",
      "  warnings.warn(\n"
     ]
    }
   ],
   "source": [
    "# Define the function to predict loan default probability based on clustering\n",
    "def predict_cluster(Sales: float, Profit: float, Original_Amount: float) -> int:\n",
    "    \"\"\"\n",
    "    Predict the cluster for new data using a pre-trained clustering model.\n",
    "\n",
    "    Args:\n",
    "        Sales (float): Sales amount.\n",
    "        Profit (float): Profit amount.\n",
    "        Original_Amount (float): Original amount.\n",
    "\n",
    "    Returns:\n",
    "        int: Predicted cluster label.\n",
    "    \"\"\"\n",
    "\n",
    "    # Organize the input values into a 2D array\n",
    "    input_data = np.array([[Original_Amount, Sales, Profit]])\n",
    "\n",
    "    # Scale the input data using the loaded scaler\n",
    "    scaled_input_data = loaded_scaler.transform(input_data)\n",
    "\n",
    "    # Predict clusters using the loaded k-Means model\n",
    "    predicted_cluster = loaded_kmeans.predict(scaled_input_data)\n",
    "\n",
    "        # Return the predicted cluster label\n",
    "    return predicted_cluster[0]\n",
    "\n",
    "# Example usage of the function inal \n",
    "Sales = 2648091.20\n",
    "Profit = 1166505.25\n",
    "Original_Amount = 16824.90\n",
    "\n",
    "predicted_cluster = predict_cluster(Sales, Profit, Original_Amount)\n",
    "print(\"Predicted Cluster Label:\", predicted_cluster)\n"
   ]
  },
  {
   "cell_type": "code",
   "execution_count": 22,
   "metadata": {},
   "outputs": [
    {
     "data": {
      "text/html": [
       "<div style=\"margin: 0; padding: 5px; line-height: 1.75; font-size: 14px; vertical-align: baseline; list-style: none; font-family: Roboto, Arial, sans-serif; background: none;\">\n",
       "  <div>\n",
       "    <span style=\"margin: 0; padding: 0; line-height: 1.75; font-size: 14px; vertical-align: baseline; list-style: none; font-family: Roboto, Arial, sans-serif; background: none; font-weight: bold; color: #15803d;\">Deploying </span> <span style=\"margin: 0; padding: 3px; line-height: 1.75; font-size: 13px; vertical-align: baseline; list-style: none; font-family: monospace; background: none; font-weight: 400; background-color: rgba(209, 213, 219, 0.2);\">predict_cluster</span>\n",
       "  </div>\n",
       "  \n",
       "\n",
       "  <div style=\"margin: 0; padding: 0; line-height: 1.75; font-size: 14px; vertical-align: baseline; list-style: none; font-family: Roboto, Arial, sans-serif; background: none;\">Uploading dependencies...</div>\n",
       "</div>"
      ],
      "text/plain": [
       "<IPython.core.display.HTML object>"
      ]
     },
     "metadata": {},
     "output_type": "display_data"
    },
    {
     "data": {
      "text/html": [
       "<div style=\"margin: 0; padding: 5px; line-height: 1.75; font-size: 14px; vertical-align: baseline; list-style: none; font-family: Roboto, Arial, sans-serif; background: none;\">\n",
       "  <div style=\"margin: 0; padding: 0; line-height: 1.75; font-size: 14px; vertical-align: baseline; list-style: none; font-family: Roboto, Arial, sans-serif; background: none; font-weight: bold; color: #15803d;\">Success!</div>\n",
       "  \n",
       "    <div style=\"margin: 0; padding: 0; line-height: 1.75; font-size: 14px; vertical-align: baseline; list-style: none; font-family: Roboto, Arial, sans-serif; background: none;\">\n",
       "      Deployment <span style=\"margin: 0; padding: 3px; line-height: 1.75; font-size: 13px; vertical-align: baseline; list-style: none; font-family: monospace; background: none; font-weight: 400; background-color: rgba(209, 213, 219, 0.2);\">predict_cluster</span>\n",
       "      will be ready in  a few seconds!\n",
       "    </div>\n",
       "  \n",
       "\n",
       "  <a href=\"https://app.modelbit.com/w/veranziverah/main/deployments/predict_cluster/apis\" target=\"_blank\" style=\"display: inline-block; margin-top: 12px;\" >\n",
       "    <div\n",
       "      style=\"display: inline-block; background-color: #845B99; border-radius: 0.375rem; color: white; cursor: pointer; font-size: 14px; font-weight: 700; padding: 8px 16px;\"\n",
       "      onmouseenter=\"this.style.background='#714488'\"\n",
       "      onmouseleave=\"this.style.background='#845B99'\"\n",
       "    >\n",
       "      View in Modelbit\n",
       "    </div>\n",
       "  </a>\n",
       "</div>"
      ],
      "text/plain": [
       "<IPython.core.display.HTML object>"
      ]
     },
     "metadata": {},
     "output_type": "display_data"
    }
   ],
   "source": [
    "mb.deploy(predict_cluster)"
   ]
  },
  {
   "cell_type": "code",
   "execution_count": 23,
   "metadata": {},
   "outputs": [
    {
     "name": "stdout",
     "output_type": "stream",
     "text": [
      "{\n",
      "    \"data\": 1\n",
      "}\n"
     ]
    }
   ],
   "source": [
    "import requests\n",
    "import json\n",
    "\n",
    "url = \"https://veranziverah.app.modelbit.com/v1/predict_cluster/latest\"\n",
    "headers = {\n",
    "    'Content-Type': 'application/json'\n",
    "}\n",
    "data = {\n",
    "    \"data\": [3341501.74,1771668.04,21230.55]\n",
    "}\n",
    "\n",
    "response = requests.post(url, headers=headers, json=data)\n",
    "response_json = response.json()\n",
    "\n",
    "print(json.dumps(response_json, indent=4))"
   ]
  },
  {
   "cell_type": "code",
   "execution_count": null,
   "metadata": {},
   "outputs": [],
   "source": [
    "# Deploy the trained model\n",
    "#model = mb.deploy(model_name='recommender_system', model_object=trained_model)"
   ]
  }
 ],
 "metadata": {
  "kernelspec": {
   "display_name": "moringa_venv",
   "language": "python",
   "name": "python3"
  },
  "language_info": {
   "codemirror_mode": {
    "name": "ipython",
    "version": 3
   },
   "file_extension": ".py",
   "mimetype": "text/x-python",
   "name": "python",
   "nbconvert_exporter": "python",
   "pygments_lexer": "ipython3",
   "version": "3.11.8"
  }
 },
 "nbformat": 4,
 "nbformat_minor": 2
}
