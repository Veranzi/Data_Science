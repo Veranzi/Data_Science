{
  "nbformat": 4,
  "nbformat_minor": 0,
  "metadata": {
    "colab": {
      "provenance": [],
      "authorship_tag": "ABX9TyM7NH3kkkZ/oCErN3Le7Jbq",
      "include_colab_link": true
    },
    "kernelspec": {
      "name": "python3",
      "display_name": "Python 3"
    },
    "language_info": {
      "name": "python"
    }
  },
  "cells": [
    {
      "cell_type": "markdown",
      "metadata": {
        "id": "view-in-github",
        "colab_type": "text"
      },
      "source": [
        "<a href=\"https://colab.research.google.com/github/Veranzi/Data_Science/blob/main/Final.ipynb\" target=\"_parent\"><img src=\"https://colab.research.google.com/assets/colab-badge.svg\" alt=\"Open In Colab\"/></a>"
      ]
    },
    {
      "cell_type": "code",
      "execution_count": 1,
      "metadata": {
        "id": "ZlEOZ0ns3CUE"
      },
      "outputs": [],
      "source": [
        "import gym\n",
        "from gym import spaces\n",
        "import numpy as np\n",
        "import pygame"
      ]
    },
    {
      "cell_type": "code",
      "source": [
        "class MazeGameEnv(gym.Env):\n",
        "    def __init__(self, maze):\n",
        "        super(MazeGameEnv, self).__init__()\n",
        "        self.maze = np.array(maze)  # Maze represented as a 2D numpy array\n",
        "        self.start_pos = np.where(self.maze == 'S')  # Starting position\n",
        "        self.goal_pos = np.where(self.maze == 'G')  # Goal position\n",
        "        self.current_pos = self.start_pos #starting position is current posiiton of agent\n",
        "        self.num_rows, self.num_cols = self.maze.shape\n",
        "\n",
        "        # 4 possible actions: 0=up, 1=down, 2=left, 3=right\n",
        "        self.action_space = spaces.Discrete(4)\n",
        "\n",
        "        # Observation space is grid of size:rows x columns\n",
        "        self.observation_space = spaces.Tuple((spaces.Discrete(self.num_rows), spaces.Discrete(self.num_cols)))\n",
        "\n",
        "        # Initialize Pygame\n",
        "        pygame.init()\n",
        "        self.cell_size = 125\n",
        "\n",
        "        # setting display size\n",
        "        self.screen = pygame.display.set_mode((self.num_cols * self.cell_size, self.num_rows * self.cell_size))\n",
        "\n",
        "    def reset(self):\n",
        "        self.current_pos = self.start_pos\n",
        "        return self.current_pos\n",
        "\n",
        "    def step(self, action):\n",
        "        # Move the agent based on the selected action\n",
        "        new_pos = np.array(self.current_pos)\n",
        "        if action == 0:  # Up\n",
        "            new_pos[0] -= 1\n",
        "        elif action == 1:  # Down\n",
        "            new_pos[0] += 1\n",
        "        elif action == 2:  # Left\n",
        "            new_pos[1] -= 1\n",
        "        elif action == 3:  # Right\n",
        "            new_pos[1] += 1\n",
        "\n",
        "        # Check if the new position is valid\n",
        "        if self._is_valid_position(new_pos):\n",
        "            self.current_pos = new_pos\n",
        "\n",
        "        # Reward function\n",
        "        if np.array_equal(self.current_pos, self.goal_pos):\n",
        "            reward = 1.0\n",
        "            done = True\n",
        "        else:\n",
        "            reward = 0.0\n",
        "            done = False\n",
        "\n",
        "        return self.current_pos, reward, done, {}\n",
        "\n",
        "    def _is_valid_position(self, pos):\n",
        "        row, col = pos\n",
        "\n",
        "        # If agent goes out of the grid\n",
        "        if row < 0 or col < 0 or row >= self.num_rows or col >= self.num_cols:\n",
        "            return False\n",
        "\n",
        "        # If the agent hits an obstacle\n",
        "        if self.maze[row, col] == '#':\n",
        "            return False\n",
        "        return True\n",
        "\n",
        "    def render(self):\n",
        "        # Clear the screen\n",
        "        self.screen.fill((255, 255, 255))\n",
        "\n",
        "        # Draw env elements one cell at a time\n",
        "        for row in range(self.num_rows):\n",
        "            for col in range(self.num_cols):\n",
        "                cell_left = col * self.cell_size\n",
        "                cell_top = row * self.cell_size\n",
        "\n",
        "                try:\n",
        "                    print(np.array(self.current_pos)==np.array([row,col]).reshape(-1,1))\n",
        "                except Exception as e:\n",
        "                    print('Initial state')\n",
        "\n",
        "                if self.maze[row, col] == '#':  # Obstacle\n",
        "                    pygame.draw.rect(self.screen, (0, 0, 0), (cell_left, cell_top, self.cell_size, self.cell_size))\n",
        "                elif self.maze[row, col] == 'S':  # Starting position\n",
        "                    pygame.draw.rect(self.screen, (0, 255, 0), (cell_left, cell_top, self.cell_size, self.cell_size))\n",
        "                elif self.maze[row, col] == 'G':  # Goal position\n",
        "                    pygame.draw.rect(self.screen, (255, 0, 0), (cell_left, cell_top, self.cell_size, self.cell_size))\n",
        "\n",
        "                if np.array_equal(np.array(self.current_pos), np.array([row, col]).reshape(-1,1)):  # Agent position\n",
        "                    pygame.draw.rect(self.screen, (0, 0, 255), (cell_left, cell_top, self.cell_size, self.cell_size))\n",
        "\n",
        "        pygame.display.update()  # Update the display"
      ],
      "metadata": {
        "id": "8pVistL57UKj"
      },
      "execution_count": 3,
      "outputs": []
    }
  ]
}